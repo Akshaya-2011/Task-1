{
  "nbformat": 4,
  "nbformat_minor": 0,
  "metadata": {
    "colab": {
      "provenance": [],
      "authorship_tag": "ABX9TyPPBY2+f6VqntdMD1hqbeUX",
      "include_colab_link": true
    },
    "kernelspec": {
      "name": "python3",
      "display_name": "Python 3"
    },
    "language_info": {
      "name": "python"
    }
  },
  "cells": [
    {
      "cell_type": "markdown",
      "metadata": {
        "id": "view-in-github",
        "colab_type": "text"
      },
      "source": [
        "<a href=\"https://colab.research.google.com/github/Akshaya-2011/Task-1/blob/main/Task_1.ipynb\" target=\"_parent\"><img src=\"https://colab.research.google.com/assets/colab-badge.svg\" alt=\"Open In Colab\"/></a>"
      ]
    },
    {
      "cell_type": "code",
      "source": [
        "import pandas as pd\n",
        "import csv\n",
        "\n",
        "# Step 1: Load the dataset\n",
        "file_path = \"/content/Amazon Sale Report.csv\"  # Update path if needed\n",
        "df = pd.read_csv(file_path, on_bad_lines='skip', quoting=csv.QUOTE_MINIMAL, low_memory=False)\n",
        "\n",
        "# Check first 5 rows\n",
        "print(df.head())\n"
      ],
      "metadata": {
        "colab": {
          "base_uri": "https://localhost:8080/"
        },
        "id": "Gw7mhNs-i0_O",
        "outputId": "fde3b19c-155c-4064-ebf6-76f77567dd76"
      },
      "execution_count": 4,
      "outputs": [
        {
          "output_type": "stream",
          "name": "stdout",
          "text": [
            "   index             Order ID      Date                        Status  \\\n",
            "0      0  405-8078784-5731545  04-30-22                     Cancelled   \n",
            "1      1  171-9198151-1101146  04-30-22  Shipped - Delivered to Buyer   \n",
            "2      2  404-0687676-7273146  04-30-22                       Shipped   \n",
            "3      3  403-9615377-8133951  04-30-22                     Cancelled   \n",
            "4      4  407-1069790-7240320  04-30-22                       Shipped   \n",
            "\n",
            "  Fulfilment Sales Channel  ship-service-level    Style              SKU  \\\n",
            "0   Merchant      Amazon.in           Standard   SET389   SET389-KR-NP-S   \n",
            "1   Merchant      Amazon.in           Standard  JNE3781  JNE3781-KR-XXXL   \n",
            "2     Amazon      Amazon.in          Expedited  JNE3371    JNE3371-KR-XL   \n",
            "3   Merchant      Amazon.in           Standard    J0341       J0341-DR-L   \n",
            "4     Amazon      Amazon.in          Expedited  JNE3671  JNE3671-TU-XXXL   \n",
            "\n",
            "        Category  ... currency  Amount    ship-city   ship-state  \\\n",
            "0            Set  ...      INR  647.62       MUMBAI  MAHARASHTRA   \n",
            "1          kurta  ...      INR  406.00    BENGALURU    KARNATAKA   \n",
            "2          kurta  ...      INR  329.00  NAVI MUMBAI  MAHARASHTRA   \n",
            "3  Western Dress  ...      INR  753.33   PUDUCHERRY   PUDUCHERRY   \n",
            "4            Top  ...      INR  574.00      CHENNAI   TAMIL NADU   \n",
            "\n",
            "  ship-postal-code  ship-country  \\\n",
            "0         400081.0            IN   \n",
            "1         560085.0            IN   \n",
            "2         410210.0            IN   \n",
            "3         605008.0            IN   \n",
            "4         600073.0            IN   \n",
            "\n",
            "                                       promotion-ids    B2B  fulfilled-by  \\\n",
            "0                                                NaN  False     Easy Ship   \n",
            "1  Amazon PLCC Free-Financing Universal Merchant ...  False     Easy Ship   \n",
            "2       IN Core Free Shipping 2015/04/08 23-48-5-108   True           NaN   \n",
            "3                                                NaN  False     Easy Ship   \n",
            "4                                                NaN  False           NaN   \n",
            "\n",
            "  Unnamed: 22  \n",
            "0         NaN  \n",
            "1         NaN  \n",
            "2         NaN  \n",
            "3         NaN  \n",
            "4         NaN  \n",
            "\n",
            "[5 rows x 24 columns]\n"
          ]
        }
      ]
    },
    {
      "cell_type": "code",
      "source": [
        "# Step 2: Drop unnecessary columns\n",
        "columns_to_drop = ['Unnamed: 22', 'fulfilled-by']\n",
        "df.drop(columns=[col for col in columns_to_drop if col in df.columns], inplace=True)\n",
        "\n",
        "# Check remaining columns\n",
        "print(\"Remaining columns after drop:\")\n",
        "print(df.columns.tolist())\n"
      ],
      "metadata": {
        "colab": {
          "base_uri": "https://localhost:8080/"
        },
        "id": "vW9UzwKWi25f",
        "outputId": "30b7b371-95ef-4d2a-af85-17d390976aad"
      },
      "execution_count": 5,
      "outputs": [
        {
          "output_type": "stream",
          "name": "stdout",
          "text": [
            "Remaining columns after drop:\n",
            "['index', 'Order ID', 'Date', 'Status', 'Fulfilment', 'Sales Channel ', 'ship-service-level', 'Style', 'SKU', 'Category', 'Size', 'ASIN', 'Courier Status', 'Qty', 'currency', 'Amount', 'ship-city', 'ship-state', 'ship-postal-code', 'ship-country', 'promotion-ids', 'B2B']\n"
          ]
        }
      ]
    },
    {
      "cell_type": "code",
      "source": [
        "# Step 3: Convert 'Date' to datetime format\n",
        "df['Date'] = pd.to_datetime(df['Date'], errors='coerce', format='%m-%d-%y')\n",
        "\n",
        "# Check conversion results\n",
        "print(\"Date column after conversion:\")\n",
        "print(df['Date'].head())\n"
      ],
      "metadata": {
        "colab": {
          "base_uri": "https://localhost:8080/"
        },
        "id": "Z4cqT1HvjDof",
        "outputId": "93ead91e-7f0a-4fc3-bd04-f61405fd79bb"
      },
      "execution_count": 6,
      "outputs": [
        {
          "output_type": "stream",
          "name": "stdout",
          "text": [
            "Date column after conversion:\n",
            "0   2022-04-30\n",
            "1   2022-04-30\n",
            "2   2022-04-30\n",
            "3   2022-04-30\n",
            "4   2022-04-30\n",
            "Name: Date, dtype: datetime64[ns]\n"
          ]
        }
      ]
    },
    {
      "cell_type": "code",
      "source": [
        "df.dropna(subset=['Amount', 'currency'], inplace=True)\n"
      ],
      "metadata": {
        "id": "gHQAgNwojOjp"
      },
      "execution_count": 7,
      "outputs": []
    },
    {
      "cell_type": "code",
      "source": [
        "df['Courier Status'] = df['Courier Status'].fillna('Unknown')\n",
        "df['promotion-ids'] = df['promotion-ids'].fillna('None')\n",
        "df['ship-city'] = df['ship-city'].fillna('Unknown')\n",
        "df['ship-state'] = df['ship-state'].fillna('Unknown')\n",
        "df['ship-country'] = df['ship-country'].fillna('Unknown')\n",
        "df['ship-postal-code'] = df['ship-postal-code'].fillna(0)\n"
      ],
      "metadata": {
        "id": "9Wg0KVe3jX9f"
      },
      "execution_count": 8,
      "outputs": []
    },
    {
      "cell_type": "code",
      "source": [
        "# Step 5.1: Reset index\n",
        "df.reset_index(drop=True, inplace=True)\n",
        "\n",
        "# Step 5.2: Save cleaned dataset to a new CSV\n",
        "df.to_csv(\"/content/Cleaned_Amazon_Sale_Report.csv\", index=False)\n",
        "\n",
        "# Confirmation\n",
        "print(\"✅ Dataset cleaned and saved successfully!\")\n",
        "print(\"📦 Cleaned file: Cleaned_Amazon_Sale_Report.csv\")\n",
        "print(\"📊 Final number of rows:\", len(df))\n"
      ],
      "metadata": {
        "colab": {
          "base_uri": "https://localhost:8080/"
        },
        "id": "v6H3-Dwwjd43",
        "outputId": "a3fc5be5-e764-4043-8e2d-bed33c632593"
      },
      "execution_count": 9,
      "outputs": [
        {
          "output_type": "stream",
          "name": "stdout",
          "text": [
            "✅ Dataset cleaned and saved successfully!\n",
            "📦 Cleaned file: Cleaned_Amazon_Sale_Report.csv\n",
            "📊 Final number of rows: 121180\n"
          ]
        }
      ]
    }
  ]
}